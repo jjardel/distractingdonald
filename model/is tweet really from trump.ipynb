{
 "cells": [
  {
   "cell_type": "code",
   "execution_count": 1,
   "metadata": {
    "collapsed": false
   },
   "outputs": [
    {
     "name": "stderr",
     "output_type": "stream",
     "text": [
      "/Users/jjardel/anaconda/envs/python3/lib/python3.5/site-packages/sklearn/cross_validation.py:44: DeprecationWarning: This module was deprecated in version 0.18 in favor of the model_selection module into which all the refactored classes and functions are moved. Also note that the interface of the new CV iterators are different from that of this module. This module will be removed in 0.20.\n",
      "  \"This module will be removed in 0.20.\", DeprecationWarning)\n",
      "/Users/jjardel/anaconda/envs/python3/lib/python3.5/site-packages/sklearn/grid_search.py:43: DeprecationWarning: This module was deprecated in version 0.18 in favor of the model_selection module into which all the refactored classes and functions are moved. This module will be removed in 0.20.\n",
      "  DeprecationWarning)\n"
     ]
    }
   ],
   "source": [
    "import matplotlib.pyplot as plt\n",
    "import numpy as np\n",
    "import seaborn as sns\n",
    "\n",
    "from lib.utils.db_conn import DBConn\n",
    "\n",
    "from pickle import dump, load\n",
    "import os\n",
    "import re \n",
    "\n",
    "from src._extraction_utils import DFColumnExtractor, twitter_tokenizer\n",
    "\n",
    "from IPython.core.pylabtools import figsize\n",
    "from sklearn.linear_model import LogisticRegression\n",
    "from sklearn.preprocessing import StandardScaler, MinMaxScaler\n",
    "from sklearn.ensemble import RandomForestClassifier\n",
    "from sklearn.model_selection import train_test_split, StratifiedShuffleSplit\n",
    "from sklearn.feature_extraction.text import TfidfVectorizer\n",
    "from sklearn.pipeline import Pipeline, make_pipeline, FeatureUnion\n",
    "from sklearn.naive_bayes import MultinomialNB\n",
    "from sklearn.grid_search import GridSearchCV\n",
    "from sklearn.metrics import accuracy_score, classification_report, confusion_matrix\n",
    "from sklearn.externals import joblib\n",
    "\n",
    "from sklearn.base import BaseEstimator, TransformerMixin\n",
    "\n",
    "\n",
    "from nltk.tokenize import TweetTokenizer\n",
    "\n",
    "from sklearn.metrics import classification_report\n",
    "\n",
    "%matplotlib inline\n",
    "\n",
    "CONFIG = '/Users/jjardel/dev/distractingdonald/config/db_creds_local.json'"
   ]
  },
  {
   "cell_type": "code",
   "execution_count": 2,
   "metadata": {
    "collapsed": false
   },
   "outputs": [
    {
     "data": {
      "text/html": [
       "<div>\n",
       "<table border=\"1\" class=\"dataframe\">\n",
       "  <thead>\n",
       "    <tr style=\"text-align: right;\">\n",
       "      <th></th>\n",
       "      <th>created_at</th>\n",
       "      <th>favorites</th>\n",
       "      <th>followers</th>\n",
       "      <th>id_str</th>\n",
       "      <th>num_statuses</th>\n",
       "      <th>quoted_status_id_str</th>\n",
       "      <th>quoted_status_text</th>\n",
       "      <th>retweets</th>\n",
       "      <th>text</th>\n",
       "      <th>tweet_source</th>\n",
       "      <th>user_id_str</th>\n",
       "      <th>user_name</th>\n",
       "      <th>user_screen_name</th>\n",
       "      <th>retweets_to_faves</th>\n",
       "      <th>num_exclamation_points</th>\n",
       "      <th>num_characters</th>\n",
       "      <th>num_uppercase_strings</th>\n",
       "      <th>is_trump_retweet</th>\n",
       "      <th>is_tweetstorm</th>\n",
       "    </tr>\n",
       "  </thead>\n",
       "  <tbody>\n",
       "    <tr>\n",
       "      <th>0</th>\n",
       "      <td>2016-06-09 12:29:24</td>\n",
       "      <td>33612.0</td>\n",
       "      <td>22616750.0</td>\n",
       "      <td>740883494117728256</td>\n",
       "      <td>34390.0</td>\n",
       "      <td>None</td>\n",
       "      <td>None</td>\n",
       "      <td>12006.0</td>\n",
       "      <td>Crooked Hillary Clinton will be a disaster on ...</td>\n",
       "      <td>1</td>\n",
       "      <td>25073877</td>\n",
       "      <td>Donald J. Trump</td>\n",
       "      <td>realDonaldTrump</td>\n",
       "      <td>0.357194</td>\n",
       "      <td>1</td>\n",
       "      <td>139</td>\n",
       "      <td>1</td>\n",
       "      <td>0</td>\n",
       "      <td>0</td>\n",
       "    </tr>\n",
       "    <tr>\n",
       "      <th>1</th>\n",
       "      <td>2016-06-09 18:22:21</td>\n",
       "      <td>83496.0</td>\n",
       "      <td>22616750.0</td>\n",
       "      <td>740972317191352320</td>\n",
       "      <td>34390.0</td>\n",
       "      <td>None</td>\n",
       "      <td>None</td>\n",
       "      <td>36029.0</td>\n",
       "      <td>Obama just endorsed Crooked Hillary. He wants ...</td>\n",
       "      <td>0</td>\n",
       "      <td>25073877</td>\n",
       "      <td>Donald J. Trump</td>\n",
       "      <td>realDonaldTrump</td>\n",
       "      <td>0.431506</td>\n",
       "      <td>1</td>\n",
       "      <td>92</td>\n",
       "      <td>1</td>\n",
       "      <td>0</td>\n",
       "      <td>0</td>\n",
       "    </tr>\n",
       "    <tr>\n",
       "      <th>2</th>\n",
       "      <td>2016-06-09 19:26:49</td>\n",
       "      <td>15177.0</td>\n",
       "      <td>22616750.0</td>\n",
       "      <td>740988538464948224</td>\n",
       "      <td>34390.0</td>\n",
       "      <td>None</td>\n",
       "      <td>None</td>\n",
       "      <td>4888.0</td>\n",
       "      <td>A message of condolences and support regarding...</td>\n",
       "      <td>0</td>\n",
       "      <td>25073877</td>\n",
       "      <td>Donald J. Trump</td>\n",
       "      <td>realDonaldTrump</td>\n",
       "      <td>0.322066</td>\n",
       "      <td>0</td>\n",
       "      <td>106</td>\n",
       "      <td>1</td>\n",
       "      <td>0</td>\n",
       "      <td>0</td>\n",
       "    </tr>\n",
       "    <tr>\n",
       "      <th>3</th>\n",
       "      <td>2016-06-09 20:40:32</td>\n",
       "      <td>294381.0</td>\n",
       "      <td>22616750.0</td>\n",
       "      <td>741007091947556864</td>\n",
       "      <td>34390.0</td>\n",
       "      <td>740973710593654784</td>\n",
       "      <td>Delete your account. https://t.co/Oa92sncRQY</td>\n",
       "      <td>166469.0</td>\n",
       "      <td>How long did it take your staff of 823 people ...</td>\n",
       "      <td>0</td>\n",
       "      <td>25073877</td>\n",
       "      <td>Donald J. Trump</td>\n",
       "      <td>realDonaldTrump</td>\n",
       "      <td>0.565488</td>\n",
       "      <td>0</td>\n",
       "      <td>138</td>\n",
       "      <td>0</td>\n",
       "      <td>0</td>\n",
       "      <td>0</td>\n",
       "    </tr>\n",
       "    <tr>\n",
       "      <th>4</th>\n",
       "      <td>2016-06-09 21:15:11</td>\n",
       "      <td>21200.0</td>\n",
       "      <td>22616750.0</td>\n",
       "      <td>741015811960229893</td>\n",
       "      <td>34390.0</td>\n",
       "      <td>None</td>\n",
       "      <td>None</td>\n",
       "      <td>7121.0</td>\n",
       "      <td>Thank you Roseanne, very much appreciated. twi...</td>\n",
       "      <td>0</td>\n",
       "      <td>25073877</td>\n",
       "      <td>Donald J. Trump</td>\n",
       "      <td>realDonaldTrump</td>\n",
       "      <td>0.335896</td>\n",
       "      <td>0</td>\n",
       "      <td>66</td>\n",
       "      <td>0</td>\n",
       "      <td>0</td>\n",
       "      <td>0</td>\n",
       "    </tr>\n",
       "  </tbody>\n",
       "</table>\n",
       "</div>"
      ],
      "text/plain": [
       "           created_at  favorites   followers              id_str  \\\n",
       "0 2016-06-09 12:29:24    33612.0  22616750.0  740883494117728256   \n",
       "1 2016-06-09 18:22:21    83496.0  22616750.0  740972317191352320   \n",
       "2 2016-06-09 19:26:49    15177.0  22616750.0  740988538464948224   \n",
       "3 2016-06-09 20:40:32   294381.0  22616750.0  741007091947556864   \n",
       "4 2016-06-09 21:15:11    21200.0  22616750.0  741015811960229893   \n",
       "\n",
       "   num_statuses quoted_status_id_str  \\\n",
       "0       34390.0                 None   \n",
       "1       34390.0                 None   \n",
       "2       34390.0                 None   \n",
       "3       34390.0   740973710593654784   \n",
       "4       34390.0                 None   \n",
       "\n",
       "                             quoted_status_text  retweets  \\\n",
       "0                                          None   12006.0   \n",
       "1                                          None   36029.0   \n",
       "2                                          None    4888.0   \n",
       "3  Delete your account. https://t.co/Oa92sncRQY  166469.0   \n",
       "4                                          None    7121.0   \n",
       "\n",
       "                                                text  tweet_source  \\\n",
       "0  Crooked Hillary Clinton will be a disaster on ...             1   \n",
       "1  Obama just endorsed Crooked Hillary. He wants ...             0   \n",
       "2  A message of condolences and support regarding...             0   \n",
       "3  How long did it take your staff of 823 people ...             0   \n",
       "4  Thank you Roseanne, very much appreciated. twi...             0   \n",
       "\n",
       "  user_id_str        user_name user_screen_name  retweets_to_faves  \\\n",
       "0    25073877  Donald J. Trump  realDonaldTrump           0.357194   \n",
       "1    25073877  Donald J. Trump  realDonaldTrump           0.431506   \n",
       "2    25073877  Donald J. Trump  realDonaldTrump           0.322066   \n",
       "3    25073877  Donald J. Trump  realDonaldTrump           0.565488   \n",
       "4    25073877  Donald J. Trump  realDonaldTrump           0.335896   \n",
       "\n",
       "   num_exclamation_points  num_characters  num_uppercase_strings  \\\n",
       "0                       1             139                      1   \n",
       "1                       1              92                      1   \n",
       "2                       0             106                      1   \n",
       "3                       0             138                      0   \n",
       "4                       0              66                      0   \n",
       "\n",
       "   is_trump_retweet  is_tweetstorm  \n",
       "0                 0              0  \n",
       "1                 0              0  \n",
       "2                 0              0  \n",
       "3                 0              0  \n",
       "4                 0              0  "
      ]
     },
     "execution_count": 2,
     "metadata": {},
     "output_type": "execute_result"
    }
   ],
   "source": [
    "conn = DBConn(CONFIG)\n",
    "data = conn.export('crazy_tweet_features', schema='clean')\n",
    "\n",
    "data.tweet_source = data.tweet_source.apply(lambda x: 1 if x == 'android' else 0)\n",
    "\n",
    "# standardize all urls\n",
    "data.text = data.text.str.replace('https?:\\/\\/t.co\\/[a-zA-Z0-9\\-\\.]{8,}', 'twitter_url ')\n",
    "\n",
    "data.head()\n"
   ]
  },
  {
   "cell_type": "code",
   "execution_count": 3,
   "metadata": {
    "collapsed": false
   },
   "outputs": [],
   "source": [
    "\n",
    "TEXT_FEATURES = 'text'\n",
    "\n",
    "NON_TEXT_FEATURES = [\n",
    "    'favorites',\n",
    "    'retweets',\n",
    "    'retweets_to_faves',\n",
    "    'num_exclamation_points',\n",
    "    'num_uppercase_strings',\n",
    "    'is_trump_retweet'\n",
    "    #'is_tweetstorm'    \n",
    "]\n",
    "\n",
    "\n",
    "text_pipeline = Pipeline([\n",
    "    ('extract_text', DFColumnExtractor(TEXT_FEATURES)),\n",
    "    ('vect', TfidfVectorizer(tokenizer=twitter_tokenizer))\n",
    "])\n",
    "\n",
    "numeric_pipeline = Pipeline([\n",
    "    ('extract_nums', DFColumnExtractor(NON_TEXT_FEATURES)),\n",
    "    ('scaler', MinMaxScaler())\n",
    "])\n",
    "\n",
    "nb_pipeline = Pipeline([\n",
    "    ('features', FeatureUnion([\n",
    "        ('text_processing', text_pipeline),\n",
    "        ('num_processing', numeric_pipeline)\n",
    "    ])),\n",
    "    ('clf', MultinomialNB())\n",
    "])\n",
    "\n",
    "rf_pipeline = Pipeline([\n",
    "    ('features', FeatureUnion([\n",
    "        ('text_processing', text_pipeline),\n",
    "        ('num_processing', numeric_pipeline)\n",
    "    ])),\n",
    "    ('clf', RandomForestClassifier())\n",
    "])\n",
    "\n",
    "\n",
    "nb_params = {\n",
    "    'features__text_processing__vect__ngram_range': [(1, 1), (1, 2), (1, 3)],\n",
    "    'clf__alpha': np.logspace(-2, 0, num=10)\n",
    "}\n",
    "\n",
    "rf_params = {\n",
    "    'features__text_processing__vect__ngram_range': [(1, 1), (1, 2), (1, 3)],\n",
    "    'clf__n_estimators': [int(x) for x in np.logspace(1, 3, num=10)]\n",
    "}\n",
    "\n"
   ]
  },
  {
   "cell_type": "code",
   "execution_count": 4,
   "metadata": {
    "collapsed": false
   },
   "outputs": [],
   "source": [
    "idx_array = np.arange(len(data))\n",
    "idx_train, idx_test, _ , _ = train_test_split(\n",
    "    idx_array,\n",
    "    data.tweet_source.values,\n",
    "    train_size=0.8,\n",
    "    stratify=data.tweet_source.values,\n",
    "    random_state=42\n",
    ")\n",
    "\n",
    "train_df = data.iloc[idx_train, :]\n",
    "test_df = data.iloc[idx_test, :]\n",
    "\n",
    "y_train = data.tweet_source.values[idx_train]\n",
    "y_test = data.tweet_source.values[idx_test]"
   ]
  },
  {
   "cell_type": "code",
   "execution_count": 8,
   "metadata": {
    "collapsed": false
   },
   "outputs": [
    {
     "name": "stdout",
     "output_type": "stream",
     "text": [
      "Best Naive Bayes Classifier has accuracy score: 0.8676136363636363\n",
      "Best Random Forest Classifier has accuracy score: 0.8943181818181818\n"
     ]
    }
   ],
   "source": [
    "nb_gs = GridSearchCV(nb_pipeline, nb_params, n_jobs=-1, cv=5)\n",
    "nb_gs.fit(train_df, y_train)\n",
    "\n",
    "print('Best Naive Bayes Classifier has accuracy score: {0}'.format(nb_gs.best_score_))\n",
    "\n",
    "rf_gs = GridSearchCV(rf_pipeline, rf_params, n_jobs=-1, cv=5)\n",
    "rf_gs.fit(train_df, y_train)\n",
    "\n",
    "print('Best Random Forest Classifier has accuracy score: {0}'.format(rf_gs.best_score_))\n"
   ]
  },
  {
   "cell_type": "code",
   "execution_count": 6,
   "metadata": {
    "collapsed": false
   },
   "outputs": [
    {
     "data": {
      "text/plain": [
       "['best_model.pkl']"
      ]
     },
     "execution_count": 6,
     "metadata": {},
     "output_type": "execute_result"
    }
   ],
   "source": [
    "# retrain with best model params using full data\n",
    "#rf_pipeline.fit(data, data.tweet_source.values, **rf_gs.best_params_)\n",
    "\n",
    "best_model = nb_gs.best_estimator_\n",
    "best_model.fit(data, data.tweet_source.values)\n",
    "\n",
    "joblib.dump(best_model, 'best_model.pkl', compress=1)\n",
    "\n",
    "#with open('../web_app/pkl_objects/model.pkl', 'wb') as fp:\n",
    "#    dump(best_model, fp)"
   ]
  },
  {
   "cell_type": "code",
   "execution_count": null,
   "metadata": {
    "collapsed": false
   },
   "outputs": [],
   "source": []
  },
  {
   "cell_type": "code",
   "execution_count": 7,
   "metadata": {
    "collapsed": false
   },
   "outputs": [
    {
     "ename": "NameError",
     "evalue": "name 'rf_gs' is not defined",
     "output_type": "error",
     "traceback": [
      "\u001b[0;31m---------------------------------------------------------------------------\u001b[0m",
      "\u001b[0;31mNameError\u001b[0m                                 Traceback (most recent call last)",
      "\u001b[0;32m<ipython-input-7-5b26e7c02bcb>\u001b[0m in \u001b[0;36m<module>\u001b[0;34m()\u001b[0m\n\u001b[0;32m----> 1\u001b[0;31m \u001b[0mpred_probs\u001b[0m \u001b[0;34m=\u001b[0m \u001b[0mrf_gs\u001b[0m\u001b[0;34m.\u001b[0m\u001b[0mpredict_proba\u001b[0m\u001b[0;34m(\u001b[0m\u001b[0mtrain_df\u001b[0m\u001b[0;34m)\u001b[0m\u001b[0;34m[\u001b[0m\u001b[0;34m:\u001b[0m\u001b[0;34m,\u001b[0m \u001b[0;36m1\u001b[0m\u001b[0;34m]\u001b[0m\u001b[0;34m\u001b[0m\u001b[0m\n\u001b[0m\u001b[1;32m      2\u001b[0m \u001b[0;32mfor\u001b[0m \u001b[0mi\u001b[0m \u001b[0;32min\u001b[0m \u001b[0mrange\u001b[0m\u001b[0;34m(\u001b[0m\u001b[0;36m20\u001b[0m\u001b[0;34m)\u001b[0m\u001b[0;34m:\u001b[0m\u001b[0;34m\u001b[0m\u001b[0m\n\u001b[1;32m      3\u001b[0m     \u001b[0mprint\u001b[0m\u001b[0;34m(\u001b[0m\u001b[0mpred_probs\u001b[0m\u001b[0;34m[\u001b[0m\u001b[0mi\u001b[0m\u001b[0;34m]\u001b[0m\u001b[0;34m,\u001b[0m \u001b[0mtrain_df\u001b[0m\u001b[0;34m.\u001b[0m\u001b[0mtext\u001b[0m\u001b[0;34m.\u001b[0m\u001b[0mvalues\u001b[0m\u001b[0;34m[\u001b[0m\u001b[0mi\u001b[0m\u001b[0;34m]\u001b[0m\u001b[0;34m,\u001b[0m \u001b[0my_train\u001b[0m\u001b[0;34m[\u001b[0m\u001b[0mi\u001b[0m\u001b[0;34m]\u001b[0m\u001b[0;34m)\u001b[0m\u001b[0;34m\u001b[0m\u001b[0m\n",
      "\u001b[0;31mNameError\u001b[0m: name 'rf_gs' is not defined"
     ]
    }
   ],
   "source": [
    "pred_probs = rf_gs.predict_proba(train_df)[:, 1]\n",
    "for i in range(20):\n",
    "    print(pred_probs[i], train_df.text.values[i], y_train[i])"
   ]
  }
 ],
 "metadata": {
  "anaconda-cloud": {},
  "kernelspec": {
   "display_name": "Python [conda env:python3]",
   "language": "python",
   "name": "conda-env-python3-py"
  },
  "language_info": {
   "codemirror_mode": {
    "name": "ipython",
    "version": 3
   },
   "file_extension": ".py",
   "mimetype": "text/x-python",
   "name": "python",
   "nbconvert_exporter": "python",
   "pygments_lexer": "ipython3",
   "version": "3.5.2"
  }
 },
 "nbformat": 4,
 "nbformat_minor": 2
}
